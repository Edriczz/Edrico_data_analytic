{
  "nbformat": 4,
  "nbformat_minor": 0,
  "metadata": {
    "colab": {
      "provenance": [],
      "collapsed_sections": [
        "LT8MsOvg0Q76",
        "88tYg9WCCqki",
        "819ecYjqMAqi"
      ],
      "authorship_tag": "ABX9TyM/LWxMpJZEWx3FhTVRgQ20",
      "include_colab_link": true
    },
    "kernelspec": {
      "name": "python3",
      "display_name": "Python 3"
    },
    "language_info": {
      "name": "python"
    }
  },
  "cells": [
    {
      "cell_type": "markdown",
      "metadata": {
        "id": "view-in-github",
        "colab_type": "text"
      },
      "source": [
        "<a href=\"https://colab.research.google.com/github/Edriczz/Edrico_data_analytic/blob/main/Combinatoric_Analysis_Homework.ipynb\" target=\"_parent\"><img src=\"https://colab.research.google.com/assets/colab-badge.svg\" alt=\"Open In Colab\"/></a>"
      ]
    },
    {
      "cell_type": "markdown",
      "source": [
        "##1. Determine the coefficients for $x^5y^{13}$ and $x^8y^9$ in the expansion of $(3x - 4y)^{18}$. \\\n",
        "\n",
        "\n",
        "\n",
        "\n"
      ],
      "metadata": {
        "id": "LT8MsOvg0Q76"
      }
    },
    {
      "cell_type": "markdown",
      "source": [
        "Number 1 Answer \\\n",
        "in order to determine coefficient of term $x^py^q$, from expansion of $(a+b)^{N}$. There are two kind of evaluation that we must to do \\\n",
        "  1. if $p+q$ equal to $N$ then, we can use the binomial theorem $$(a+b)^N =\n",
        "   \\sum_{k=0}^{N} \\binom{N}{k} a^{N-k} b^k$$\n",
        "  2. If $p+q\\neq{N}$ then the coefficient of $x^py^q$ is $0$.\\\n",
        "from the problem we know that $a=3x, b=-4y,$and $N=18$, we first want to evaluate $x^5y^{13}$ \\\n",
        "$p=5$ and $q=13$, and its leading to $p+q=18$ and it is the same value as N, so in order to determine the coefficient of $x^5y^{13}$ we need to use binomial theorem. the general shape of this expansion is $\\binom{18}{k} (3x)^{18-k} (-4y)^k$. To find the coeeficient of $x^5y^{13}$ the $k$ must be equal to 13. \\\n",
        "$=\\binom{18}{13} (3x)^{18-13} (-4y)^{13}$.\\\n",
        "$=\\binom{18}{13} (3x)^{5} (-4y)^{13}$.\\\n",
        "$=\\binom{18}{13} (3)^5(x)^{5} (-4)^{13}(y)^{13}$.\\\n",
        "$=\\binom{18}{13} (3)^5(-4)^{13}(x)^{5} (y)^{13}$.\\\n",
        "so the coefficient of $x^5y^{13}$ is $\\binom{18}{13} (3)^5(-4)^{13}$.\\\n",
        "Now we evaluate $x^8y^9$ \\\n",
        "$p=8$ and $q=9$, $p+q=17$. So $p+q\\neq N$. Because  $p+q\\neq N$ on $p=8$ and $q=9$, so the coefficient of $x^8y^9$ is $0$\n"
      ],
      "metadata": {
        "id": "FuJIoQPC7Thj"
      }
    },
    {
      "cell_type": "markdown",
      "source": [
        "## 2. Compute  $$\\sum_{k=1}^{n} \\binom{n}{k} 2^{n-k}$$"
      ],
      "metadata": {
        "id": "88tYg9WCCqki"
      }
    },
    {
      "cell_type": "markdown",
      "source": [
        "\n",
        "\n",
        "We want to compute the sum:\n",
        "$$S = \\sum_{k=1}^{n} \\binom{n}{k} 2^{n-k}$$\n",
        "\n",
        "---\n",
        "\n",
        "#### 1. Recall the Binomial Theorem\n",
        "The Binomial Theorem states that for any non-negative integer $n$, and any real numbers $a$ and $b$:\n",
        "$$(a+b)^n = \\sum_{k=0}^{n} \\binom{n}{k} a^{n-k} b^k$$\n",
        "where $\\binom{n}{k} = \\frac{n!}{k!(n-k)!}$ is the binomial coefficient.\n",
        "\n",
        "---\n",
        "\n",
        "#### 2. Compare the given sum with the terms in the Binomial Theorem\n",
        "The general term in our given sum is $\\binom{n}{k} 2^{n-k}$.\n",
        "The general term in the Binomial Theorem is $\\binom{n}{k} a^{n-k} b^k$.\n",
        "\n",
        "Let $a = 2$ and $b = 1$.\n",
        "Then the general term in the Binomial Theorem becomes:\n",
        "$$\\binom{n}{k} (2)^{n-k} (1)^k = \\binom{n}{k} 2^{n-k}$$\n",
        "This matches the terms in our sum.\n",
        "\n",
        "---\n",
        "\n",
        "#### 3. Apply these values of $a$ and $b$ to the Binomial Theorem\n",
        "Using $a=2$ and $b=1$:\n",
        "$$(2+1)^n = \\sum_{k=0}^{n} \\binom{n}{k} (2)^{n-k} (1)^k$$\n",
        "$$(3)^n = \\sum_{k=0}^{n} \\binom{n}{k} 2^{n-k}$$\n",
        "\n",
        "---\n",
        "\n",
        "#### 4. Adjust for the difference in summation limits\n",
        "Our given sum, $S = \\sum_{k=1}^{n} \\binom{n}{k} 2^{n-k}$, starts from $k=1$.\n",
        "The sum from the Binomial Theorem, $3^n = \\sum_{k=0}^{n} \\binom{n}{k} 2^{n-k}$, starts from $k=0$.\n",
        "\n",
        "We can write the sum from the Binomial Theorem by separating its $k=0$ term:\n",
        "$$\\sum_{k=0}^{n} \\binom{n}{k} 2^{n-k} = \\left( \\binom{n}{0} 2^{n-0} \\right) + \\sum_{k=1}^{n} \\binom{n}{k} 2^{n-k}$$\n",
        "So,\n",
        "$$3^n = \\binom{n}{0} 2^{n} + S$$\n",
        "\n",
        "---\n",
        "\n",
        "#### 5. Calculate the value of the $k=0$ term\n",
        "The $k=0$ term is $\\binom{n}{0} 2^{n}$.\n",
        "Since $\\binom{n}{0} = 1$, the $k=0$ term is $1 \\cdot 2^n = 2^n$.\n",
        "\n",
        "---\n",
        "\n",
        "#### Step 6: Substitute back and solve for the given sum $S$\n",
        "Substitute the value of the $k=0$ term back:\n",
        "$$3^n = 2^n + S$$\n",
        "Rearranging to solve for $S$:\n",
        "$$S = 3^n - 2^n$$\n",
        "\n",
        "---\n",
        "\n",
        "#### Conclusion\n",
        "The value of the sum is:\n",
        "$$\\sum_{k=1}^{n} \\binom{n}{k} 2^{n-k} = \\mathbf{3^n - 2^n}$$"
      ],
      "metadata": {
        "id": "qdOU2vUBCrGO"
      }
    },
    {
      "cell_type": "markdown",
      "source": [
        "## 3. A bakery sells chocolate, cinnamon, and plain doughnuts and at a particular time has 6 chocolate, 6 cinnamon, and 3 plain. If a box contains 12 doughnuts, how many different options are there for a box of doughnuts?"
      ],
      "metadata": {
        "id": "819ecYjqMAqi"
      }
    },
    {
      "cell_type": "markdown",
      "source": [
        "Answer problem 3\n",
        "\n",
        "### 1. Define the Problem\n",
        "Let $x_c$ be the number of chocolate doughnuts, $x_n$ be the number of cinnamon doughnuts, and $x_p$ be the number of plain doughnuts. We want to find the number of non-negative integer solutions to the equation:\n",
        "$$x_c + x_n + x_p = 12$$\n",
        "Subject to the constraints (available stock):\n",
        "$$0 \\le x_c \\le 6$$\n",
        "$$0 \\le x_n \\le 6$$\n",
        "$$0 \\le x_p \\le 3$$\n",
        "\n",
        "---\n",
        "### 2. By using Principle of Inclusion-Exclusion (PIE)\n",
        "First, we find the total number of solutions without the upper bound constraints. Let $N$ be this number. Using stars and bars ($\\binom{n+r-1}{r-1}$ where $n=12$ items and $r=3$ types):\n",
        "$$N = \\binom{12+3-1}{3-1} = \\binom{14}{2} = \\frac{14 \\times 13}{2 \\times 1} = 91$$\n",
        "\n",
        "Define sets for solutions that violate the upper bounds:\n",
        "* $S_c$: Set of solutions where $x_c \\ge 7$\n",
        "* $S_n$: Set of solutions where $x_n \\ge 7$\n",
        "* $S_p$: Set of solutions where $x_p \\ge 4$\n",
        "\n",
        "We want to find the number of solutions where none of these conditions hold, which is $N - |S_c \\cup S_n \\cup S_p|$.\n",
        "By the Principle of Inclusion-Exclusion, this is equivalent to finding the number of solutions in the complement, $N(S_c' \\cap S_n' \\cap S_p')$, where $S_i'$ is the complement of $S_i$.\n",
        "The formula is:\n",
        "$$|S_c' \\cap S_n' \\cap S_p'| = N - [|S_c| + |S_n| + |S_p|] + [|S_c \\cap S_n| + |S_c \\cap S_p| + |S_n \\cap S_p|] - |S_c \\cap S_n \\cap S_p|$$\n",
        "(Using $|A|$ to denote the number of elements in set $A$, which is equivalent to $N(A)$ used previously.)\n",
        "\n",
        "---\n",
        "### 3. Calculate Solutions that Violating Single Properties\n",
        "* **$|S_c|$**: Solutions where $x_c \\ge 7$. Let $x_c' = x_c - 7 \\ge 0$.\n",
        "    The equation becomes $(x_c' + 7) + x_n + x_p = 12 \\Rightarrow x_c' + x_n + x_p = 5$.\n",
        "    $$|S_c| = \\binom{5+3-1}{3-1} = \\binom{7}{2} = \\frac{7 \\times 6}{2 \\times 1} = 21$$\n",
        "\n",
        "* **$|S_n|$**: Solutions where $x_n \\ge 7$. Let $x_n' = x_n - 7 \\ge 0$.\n",
        "    The equation becomes $x_c + (x_n' + 7) + x_p = 12 \\Rightarrow x_c + x_n' + x_p = 5$.\n",
        "    $$|S_n| = \\binom{5+3-1}{3-1} = \\binom{7}{2} = 21$$\n",
        "\n",
        "* **$|S_p|$**: Solutions where $x_p \\ge 4$. Let $x_p' = x_p - 4 \\ge 0$.\n",
        "    The equation becomes $x_c + x_n + (x_p' + 4) = 12 \\Rightarrow x_c + x_n + x_p' = 8$.\n",
        "    $$|S_p| = \\binom{8+3-1}{3-1} = \\binom{10}{2} = \\frac{10 \\times 9}{2 \\times 1} = 45$$\n",
        "\n",
        "Thus, $\\sum |S_i| = |S_c| + |S_n| + |S_p| = 21 + 21 + 45 = 87$.\n",
        "\n",
        "---\n",
        "### 4. Calculate Solutions that Violating Pairs of Properties (Intersections)\n",
        "* **$|S_c \\cap S_n|$**: Solutions where $x_c \\ge 7$ and $x_n \\ge 7$. Let $x_c' = x_c - 7$, $x_n' = x_n - 7$.\n",
        "    $(x_c' + 7) + (x_n' + 7) + x_p = 12 \\Rightarrow x_c' + x_n' + x_p = -2$.\n",
        "    Since the sum is negative, $|S_c \\cap S_n| = 0$.\n",
        "\n",
        "* **$|S_c \\cap S_p|$**: Solutions where $x_c \\ge 7$ and $x_p \\ge 4$. Let $x_c' = x_c - 7$, $x_p' = x_p - 4$.\n",
        "    $(x_c' + 7) + x_n + (x_p' + 4) = 12 \\Rightarrow x_c' + x_n + x_p' = 1$.\n",
        "    $$|S_c \\cap S_p| = \\binom{1+3-1}{3-1} = \\binom{3}{2} = 3$$\n",
        "\n",
        "* **$|S_n \\cap S_p|$**: Solutions where $x_n \\ge 7$ and $x_p \\ge 4$. Let $x_n' = x_n - 7$, $x_p' = x_p - 4$.\n",
        "    $x_c + (x_n' + 7) + (x_p' + 4) = 12 \\Rightarrow x_c + x_n' + x_p' = 1$.\n",
        "    $$|S_n \\cap S_p| = \\binom{1+3-1}{3-1} = \\binom{3}{2} = 3$$\n",
        "\n",
        "Thus, $\\sum |S_i \\cap S_j| = |S_c \\cap S_n| + |S_c \\cap S_p| + |S_n \\cap S_p| = 0 + 3 + 3 = 6$.\n",
        "\n",
        "---\n",
        "### 5. Calculate Solutions that Violating All Three Properties (Intersection)\n",
        "* **$|S_c \\cap S_n \\cap S_p|$**: Solutions where $x_c \\ge 7$, $x_n \\ge 7$, and $x_p \\ge 4$.\n",
        "    Let $x_c' = x_c - 7$, $x_n' = x_n - 7$, $x_p' = x_p - 4$.\n",
        "    $(x_c' + 7) + (x_n' + 7) + (x_p' + 4) = 12 \\Rightarrow x_c' + x_n' + x_p' = -6$.\n",
        "    Since the sum is negative, $|S_c \\cap S_n \\cap S_p| = 0$.\n",
        "\n",
        "---\n",
        "### 6. Apply the Principle of Inclusion-Exclusion\n",
        "$$|S_c' \\cap S_n' \\cap S_p'| = N - \\sum |S_i| + \\sum |S_i \\cap S_j| - |S_c \\cap S_n \\cap S_p|$$\n",
        "$$|S_c' \\cap S_n' \\cap S_p'| = 91 - 87 + 6 - 0$$\n",
        "$$|S_c' \\cap S_n' \\cap S_p'| = 4 + 6$$\n",
        "$$|S_c' \\cap S_n' \\cap S_p'| = 10$$\n",
        "\n",
        "---\n",
        "### 7. Conclusion\n",
        "There are **10** different options for the box of 12 doughnuts."
      ],
      "metadata": {
        "id": "Gszb2N6rKhXN"
      }
    },
    {
      "cell_type": "markdown",
      "source": [
        "##4. determine the number of integer solutions to the equation:\n",
        "$$x_1 + x_2 + x_3 + x_4 = 20$$\n",
        "Subject to the conditions:\n",
        "$$1 \\le x_1 \\le 6$$\n",
        "$$0 \\le x_2 \\le 7$$\n",
        "$$4 \\le x_3 \\le 8$$\n",
        "$$2 \\le x_4 \\le 6$$"
      ],
      "metadata": {
        "id": "z6W9n1U6Nq11"
      }
    },
    {
      "cell_type": "markdown",
      "source": [
        "number 4 Answer\n",
        "#### 1. Transform Variables\n",
        "To apply the stars and bars method, we first transform variables to ensure non-negative integers with a lower bound of 0.\n",
        "Let:\n",
        "* $y_1 = x_1 - 1 \\implies x_1 = y_1 + 1$. The new constraint for $y_1$ is $1-1 \\le y_1 \\le 6-1 \\implies 0 \\le y_1 \\le 5$.\n",
        "* $y_2 = x_2 - 0 \\implies x_2 = y_2$. The new constraint for $y_2$ is $0-0 \\le y_2 \\le 7-0 \\implies 0 \\le y_2 \\le 7$.\n",
        "* $y_3 = x_3 - 4 \\implies x_3 = y_3 + 4$. The new constraint for $y_3$ is $4-4 \\le y_3 \\le 8-4 \\implies 0 \\le y_3 \\le 4$.\n",
        "* $y_4 = x_4 - 2 \\implies x_4 = y_4 + 2$. The new constraint for $y_4$ is $2-2 \\le y_4 \\le 6-2 \\implies 0 \\le y_4 \\le 4$.\n",
        "\n",
        "Substitute these into the original equation:\n",
        "$$(y_1 + 1) + y_2 + (y_3 + 4) + (y_4 + 2) = 20$$\n",
        "$$y_1 + y_2 + y_3 + y_4 + 7 = 20$$\n",
        "$$y_1 + y_2 + y_3 + y_4 = 13$$\n",
        "\n",
        "We now find the number of non-negative integer solutions to $y_1 + y_2 + y_3 + y_4 = 13$ subject to the new upper bounds:\n",
        "$y_1 \\le 5$\n",
        "$y_2 \\le 7$\n",
        "$y_3 \\le 4$\n",
        "$y_4 \\le 4$\n",
        "\n",
        "#### 2. Calculate Total Solutions Without Upper Bounds ($N$)\n",
        "The number of non-negative integer solutions to $y_1 + y_2 + y_3 + y_4 = 13$ (ignoring upper bounds) is given by the stars and bars formula $\\binom{n+k-1}{k-1}$, where $n=13$ (stars) and $k=4$ (variables).\n",
        "$$N = \\binom{13+4-1}{4-1} = \\binom{16}{3} = \\frac{16 \\times 15 \\times 14}{3 \\times 2 \\times 1} = 16 \\times 5 \\times 7 = 560$$\n",
        "\n",
        "#### 3. Define Properties for Violating Upper Bounds\n",
        "Let $S_i$ be the set of solutions where $y_i$ violates its upper bound.\n",
        "* $S_1$: Solutions where $y_1 \\ge 6$ (violates $y_1 \\le 5$)\n",
        "* $S_2$: Solutions where $y_2 \\ge 8$ (violates $y_2 \\le 7$)\n",
        "* $S_3$: Solutions where $y_3 \\ge 5$ (violates $y_3 \\le 4$)\n",
        "* $S_4$: Solutions where $y_4 \\ge 5$ (violates $y_4 \\le 4$)\n",
        "\n",
        "We use the Principle of Inclusion-Exclusion to find the number of solutions where none of these properties hold ($|S_1' \\cap S_2' \\cap S_3' \\cap S_4'|$):\n",
        "$$N(\\text{valid}) = N - \\sum |S_i| + \\sum |S_i \\cap S_j| - \\sum |S_i \\cap S_j \\cap S_k| + |S_1 \\cap S_2 \\cap S_3 \\cap S_4|$$\n",
        "\n",
        "#### 4. Calculate $\\sum |S_i|$ (Violating one condition)\n",
        "* $|S_1|$: $y_1 \\ge 6$. Let $y_1' = y_1 - 6$. The equation becomes $y_1' + y_2 + y_3 + y_4 = 13 - 6 = 7$. So, $|S_1| = \\binom{7+4-1}{4-1} = \\binom{10}{3} = \\frac{10 \\cdot 9 \\cdot 8}{3 \\cdot 2 \\cdot 1} = 120$.\n",
        "* $|S_2|$: $y_2 \\ge 8$. Let $y_2' = y_2 - 8$. The equation becomes $y_1 + y_2' + y_3 + y_4 = 13 - 8 = 5$. So, $|S_2| = \\binom{5+4-1}{4-1} = \\binom{8}{3} = \\frac{8 \\cdot 7 \\cdot 6}{3 \\cdot 2 \\cdot 1} = 56$.\n",
        "* $|S_3|$: $y_3 \\ge 5$. Let $y_3' = y_3 - 5$. The equation becomes $y_1 + y_2 + y_3' + y_4 = 13 - 5 = 8$. So, $|S_3| = \\binom{8+4-1}{4-1} = \\binom{11}{3} = \\frac{11 \\cdot 10 \\cdot 9}{3 \\cdot 2 \\cdot 1} = 165$.\n",
        "* $|S_4|$: $y_4 \\ge 5$. Let $y_4' = y_4 - 5$. The equation becomes $y_1 + y_2 + y_3 + y_4' = 13 - 5 = 8$. So, $|S_4| = \\binom{8+4-1}{4-1} = \\binom{11}{3} = 165$.\n",
        "$\\sum |S_i| = 120 + 56 + 165 + 165 = 506$.\n",
        "\n",
        "\n",
        "#### 5. Calculate $\\sum |S_i \\cap S_j|$ (Violating two conditions)\n",
        "* $|S_1 \\cap S_2|$: $y_1 \\ge 6, y_2 \\ge 8$. New sum is $13 - 6 - 8 = -1$. So, $|S_1 \\cap S_2| = 0$.\n",
        "* $|S_1 \\cap S_3|$: $y_1 \\ge 6, y_3 \\ge 5$. New sum is $13 - 6 - 5 = 2$. So, $|S_1 \\cap S_3| = \\binom{2+4-1}{4-1} = \\binom{5}{3} = 10$.\n",
        "* $|S_1 \\cap S_4|$: $y_1 \\ge 6, y_4 \\ge 5$. New sum is $13 - 6 - 5 = 2$. So, $|S_1 \\cap S_4| = \\binom{5}{3} = 10$.\n",
        "* $|S_2 \\cap S_3|$: $y_2 \\ge 8, y_3 \\ge 5$. New sum is $13 - 8 - 5 = 0$. So, $|S_2 \\cap S_3| = \\binom{0+4-1}{4-1} = \\binom{3}{3} = 1$.\n",
        "* $|S_2 \\cap S_4|$: $y_2 \\ge 8, y_4 \\ge 5$. New sum is $13 - 8 - 5 = 0$. So, $|S_2 \\cap S_4| = \\binom{3}{3} = 1$.\n",
        "* $|S_3 \\cap S_4|$: $y_3 \\ge 5, y_4 \\ge 5$. New sum is $13 - 5 - 5 = 3$. So, $|S_3 \\cap S_4| = \\binom{3+4-1}{4-1} = \\binom{6}{3} = \\frac{6 \\cdot 5 \\cdot 4}{3 \\cdot 2 \\cdot 1} = 20$.\n",
        "$\\sum |S_i \\cap S_j| = 0 + 10 + 10 + 1 + 1 + 20 = 42$.\n",
        "\n",
        "#### 6. Calculate $\\sum |S_i \\cap S_j \\cap S_k|$ (Violating three conditions)\n",
        "* $|S_1 \\cap S_2 \\cap S_3|$: $y_1 \\ge 6, y_2 \\ge 8, y_3 \\ge 5$. New sum $13 - 6 - 8 - 5 = -6$. So, $|S_1 \\cap S_2 \\cap S_3| = 0$.\n",
        "* $|S_1 \\cap S_2 \\cap S_4|$: $y_1 \\ge 6, y_2 \\ge 8, y_4 \\ge 5$. New sum $13 - 6 - 8 - 5 = -6$. So, $|S_1 \\cap S_2 \\cap S_4| = 0$.\n",
        "* $|S_1 \\cap S_3 \\cap S_4|$: $y_1 \\ge 6, y_3 \\ge 5, y_4 \\ge 5$. New sum $13 - 6 - 5 - 5 = -3$. So, $|S_1 \\cap S_3 \\cap S_4| = 0$.\n",
        "* $|S_2 \\cap S_3 \\cap S_4|$: $y_2 \\ge 8, y_3 \\ge 5, y_4 \\ge 5$. New sum $13 - 8 - 5 - 5 = -5$. So, $|S_2 \\cap S_3 \\cap S_4| = 0$.\n",
        "$\\sum |S_i \\cap S_j \\cap S_k| = 0$.\n",
        "\n",
        "#### 7. Calculate $|S_1 \\cap S_2 \\cap S_3 \\cap S_4|$ (Violating all four conditions)\n",
        "$y_1 \\ge 6, y_2 \\ge 8, y_3 \\ge 5, y_4 \\ge 5$. New sum $13 - 6 - 8 - 5 - 5 = -11$.\n",
        "So, $|S_1 \\cap S_2 \\cap S_3 \\cap S_4| = 0$.\n",
        "\n",
        "#### 8. Apply the Principle of Inclusion-Exclusion\n",
        "$$N(\\text{valid solutions}) = N - \\sum |S_i| + \\sum |S_i \\cap S_j| - \\sum |S_i \\cap S_j \\cap S_k| + |S_1 \\cap S_2 \\cap S_3 \\cap S_4|$$\n",
        "$$N(\\text{valid solutions}) = 560 - 506 + 42 - 0 + 0$$\n",
        "$$N(\\text{valid solutions}) = 54 + 42$$\n",
        "$$N(\\text{valid solutions}) = 96$$\n",
        "\n",
        "#### 9. Conclusion\n",
        "The number of integer solutions to the equation that satisfy the given conditions is **96**."
      ],
      "metadata": {
        "id": "Wjq556oPOJqH"
      }
    },
    {
      "cell_type": "markdown",
      "source": [
        " ## 5.Determine the number of permutations of {1,2,...,8} in which exactly four integers are in their natural positions"
      ],
      "metadata": {
        "id": "MEx1KwYgR93y"
      }
    },
    {
      "cell_type": "markdown",
      "source": [
        "\n",
        "\n",
        "#### Permutations with Exactly Four Integers in Natural Positions\n",
        "The problem asks for the number of permutations of the set $\\{1, 2, ..., 8\\}$ where exactly four integers are in their natural (original) positions. This can be found by:\n",
        "1.  Choosing which **four** integers will be in their natural positions.\n",
        "2.  Ensuring the remaining **four** integers are *not* in their natural positions (i.e., they are deranged).\n",
        "\n",
        "---\n",
        "#### 1. Choose the Integers in Their Natural Positions\n",
        "We need to choose 4 integers out of 8 to remain in their natural positions. The number of ways to do this is given by the binomial coefficient $\\binom{n}{k}$\n",
        "$$\\binom{8}{4} = \\frac{8!}{4!(8-4)!} = \\frac{8!}{4!4!} = \\frac{8 \\times 7 \\times 6 \\times 5}{4 \\times 3 \\times 2 \\times 1} = \\frac{1680}{24} = 70 \\text{ ways}$$\n",
        "\n",
        "---\n",
        "#### 2. Derange the Remaining Integers\n",
        "The other $8 - 4 = 4$ integers must not be in their natural positions. The number of ways to arrange $m$ items such that none of them are in their original position is called a derangement, denoted $D_m$.\n",
        "The formula for derangements $D_m$ is\n",
        "$$D_m = m! \\sum_{i=0}^{m} \\frac{(-1)^i}{i!} = m! \\left(1 - \\frac{1}{1!} + \\frac{1}{2!} - \\frac{1}{3!} + \\dots + \\frac{(-1)^m}{m!}\\right) \\text{}$$\n",
        "The calculation of $D_m$ itself is derived using the Principle of Inclusion-Exclusion. [cite: 207]\n",
        "\n",
        "For the remaining $m=4$ integers, we calculate $D_4$:\n",
        "$$D_4 = 4! \\left(1 - \\frac{1}{1!} + \\frac{1}{2!} - \\frac{1}{3!} + \\frac{1}{4!}\\right)$$$$D_4 = 24 \\left(1 - 1 + \\frac{1}{2} - \\frac{1}{6} + \\frac{1}{24}\\right)$$$$D_4 = 24 \\left(0 + \\frac{12}{24} - \\frac{4}{24} + \\frac{1}{24}\\right)$$$$D_4 = 24 \\left(\\frac{12 - 4 + 1}{24}\\right)$$$$D_4 = 9 \\text{ ways}$$\n",
        "So, there are 9 ways to derange the remaining four integers. The derangements for $n=4$ are explicitly listed in the provided text.\n",
        "\n",
        "---\n",
        "#### 3. Combine the Results\n",
        "To find the total number of permutations where exactly four integers are in their natural positions, we multiply the number of ways to choose the fixed integers by the number of ways to derange the remaining integers:\n",
        "$$\\text{Total Permutations} = \\binom{8}{4} \\times D_4 = 70 \\times 9 = 630$$\n",
        "\n",
        "---\n",
        "Therefore, there are **630** permutations of $\\{1, 2, ..., 8\\}$ in which exactly four integers are in their natural positions. The Principle of Inclusion-Exclusion is inherently used in this calculation through the derangement formula."
      ],
      "metadata": {
        "id": "pxin1PMxRf4F"
      }
    }
  ]
}